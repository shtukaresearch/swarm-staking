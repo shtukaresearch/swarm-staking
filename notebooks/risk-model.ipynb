{
 "cells": [
  {
   "cell_type": "code",
   "execution_count": 457,
   "id": "dadde9bf",
   "metadata": {},
   "outputs": [],
   "source": [
    "from scipy.stats import binom\n",
    "\n",
    "DAY = 113\n",
    "MONTH = 3410\n",
    "YEAR = 41500\n",
    "D = 13 # 11 bit network radius + 4 equal weighted nodes per bin\n",
    "p = 1 / (2 << (D-1)) # probability of winning on a given epoch\n",
    "\n",
    "NNODES = 16\n",
    "\n",
    "REWARD_BZZ = 40\n",
    "BZZUSD = 0.28\n",
    "\n",
    "REWARD = REWARD_BZZ * BZZUSD"
   ]
  },
  {
   "cell_type": "code",
   "execution_count": 458,
   "id": "e57d8f8d",
   "metadata": {},
   "outputs": [
    {
     "name": "stdout",
     "output_type": "stream",
     "text": [
      "Compute cost per month: 48.38\n",
      "Storage cost per month: 20.48\n",
      "Total cost per month:   68.86\n"
     ]
    }
   ],
   "source": [
    "# AWS prices for 16 nodes estimate\n",
    "# https://aws.amazon.com/ec2/pricing/on-demand/\n",
    "\n",
    "EC2_HOUR = NNODES * 0.0672 / 16 # t4g.large - assume this can run 16 nodes\n",
    "#M6I_4XLARGE_HOUR = 0.768\n",
    "EC2_EPOCH = EC2_HOUR * 5 * 152 / 3600\n",
    "EC2_MONTH = EC2_HOUR * 24 * 30\n",
    "print(f\"Compute cost per month: {EC2_MONTH:0.2f}\")\n",
    "\n",
    "# https://aws.amazon.com/ebs/pricing/\n",
    "\n",
    "EBS_GB_MONTH = 0.08\n",
    "EBS_MONTH = EBS_GB_MONTH * 16 * NNODES\n",
    "EBS_EPOCH = EBS_MONTH * 5 * 152 / (30*86400)\n",
    "print(f\"Storage cost per month: {EBS_MONTH:0.2f}\")\n",
    "\n",
    "COST_EPOCH = EC2_EPOCH + EBS_EPOCH\n",
    "COST_MONTH = EC2_MONTH + EBS_MONTH\n",
    "print(f\"Total cost per month:   {EC2_MONTH+EBS_MONTH:0.2f}\")\n",
    "\n",
    "\n",
    "INIT = COST_MONTH * 2 # enough cash reserves for 2 months of costs"
   ]
  },
  {
   "cell_type": "code",
   "execution_count": 459,
   "id": "de76c5c8",
   "metadata": {},
   "outputs": [
    {
     "name": "stdout",
     "output_type": "stream",
     "text": [
      "Expected monthly revenue: 74.59\n"
     ]
    }
   ],
   "source": [
    "print(f\"Expected monthly revenue: {MONTH * REWARD * p * NNODES:.02f}\")"
   ]
  },
  {
   "cell_type": "markdown",
   "id": "6872a278",
   "metadata": {},
   "source": [
    "## Value at risk, dry spells"
   ]
  },
  {
   "cell_type": "code",
   "execution_count": 460,
   "id": "cecb63ef",
   "metadata": {},
   "outputs": [
    {
     "name": "stdout",
     "output_type": "stream",
     "text": [
      "Prob(no rewards in a month |  1 node): 0.659\n",
      "Prob(no rewards in a year  |  1 node): 0.006\n",
      "\n",
      "Prob(no rewards in a month | 16 nodes): 0.001\n",
      "Prob(no rewards in a year  | 16 nodes): 0.000\n"
     ]
    }
   ],
   "source": [
    "print(f\"Prob(no rewards in a month |  1 node): {binom.pmf(0, MONTH, p):.03f}\")\n",
    "print(f\"Prob(no rewards in a year  |  1 node): {binom.pmf(0, YEAR, p):.03f}\")\n",
    "print(\"\")\n",
    "print(f\"Prob(no rewards in a month | 16 nodes): {binom.pmf(0, MONTH, 16*p):.03f}\")\n",
    "print(f\"Prob(no rewards in a year  | 16 nodes): {binom.pmf(0, YEAR, 16*p):.03f}\")"
   ]
  },
  {
   "cell_type": "code",
   "execution_count": 461,
   "id": "79a398f4",
   "metadata": {},
   "outputs": [
    {
     "name": "stdout",
     "output_type": "stream",
     "text": [
      "Monthly revenue @5% with 1 nodes: 0.00\n",
      "Monthly revenue @5% with 2 nodes: 0.00\n",
      "Monthly revenue @5% with 4 nodes: 0.00\n",
      "Monthly revenue @5% with 8 nodes: 11.20\n",
      "Monthly revenue @5% with 16 nodes: 33.60\n",
      "Monthly revenue @5% with 32 nodes: 89.60\n",
      "Monthly revenue @5% with 64 nodes: 201.60\n",
      "Monthly revenue @5% with 128 nodes: 470.40\n",
      "Monthly revenue @5% with 256 nodes: 1008.00\n",
      "Monthly revenue @5% with 512 nodes: 2128.00\n",
      "\n",
      "Monthly revenue @1% with 1 nodes: 0.00\n",
      "Monthly revenue @1% with 2 nodes: 0.00\n",
      "Monthly revenue @1% with 4 nodes: 0.00\n",
      "Monthly revenue @1% with 8 nodes: 0.00\n",
      "Monthly revenue @1% with 16 nodes: 22.40\n",
      "Monthly revenue @1% with 32 nodes: 67.20\n",
      "Monthly revenue @1% with 64 nodes: 168.00\n",
      "Monthly revenue @1% with 128 nodes: 414.40\n",
      "Monthly revenue @1% with 256 nodes: 940.80\n",
      "Monthly revenue @1% with 512 nodes: 2027.20\n"
     ]
    }
   ],
   "source": [
    "for d in range(0,10):\n",
    "    n = (2<<d) // 2\n",
    "    nwins = int(binom.ppf(0.05, MONTH, n*p))\n",
    "    print(f\"Monthly revenue @5% with {n} nodes: {nwins * REWARD:0.2f}\")\n",
    "    \n",
    "print(\"\")\n",
    "\n",
    "for d in range(0,10):\n",
    "    n = (2<<d) // 2\n",
    "    nwins = int(binom.ppf(0.01, MONTH, n*p))\n",
    "    print(f\"Monthly revenue @1% with {n} nodes: {nwins*REWARD:0.2f}\")"
   ]
  },
  {
   "cell_type": "code",
   "execution_count": 462,
   "id": "2e243a47",
   "metadata": {},
   "outputs": [
    {
     "name": "stdout",
     "output_type": "stream",
     "text": [
      "Monthly VaR@5% with 1 nodes: 133.42\n",
      "Monthly VaR@5% with 2 nodes: 129.12\n",
      "Monthly VaR@5% with 4 nodes: 120.51\n",
      "Monthly VaR@5% with 8 nodes: 114.50\n",
      "Monthly VaR@5% with 16 nodes: 102.46\n",
      "Monthly VaR@5% with 32 nodes: 89.60\n",
      "Monthly VaR@5% with 64 nodes: 63.87\n",
      "Monthly VaR@5% with 128 nodes: 57.22\n",
      "Monthly VaR@5% with 256 nodes: 43.90\n",
      "Monthly VaR@5% with 512 nodes: 62.08\n",
      "\n",
      "Monthly VaR@1% with 1 nodes: 133.42\n",
      "Monthly VaR@1% with 2 nodes: 129.12\n",
      "Monthly VaR@1% with 4 nodes: 120.51\n",
      "Monthly VaR@1% with 8 nodes: 103.30\n",
      "Monthly VaR@1% with 16 nodes: 91.26\n",
      "Monthly VaR@1% with 32 nodes: 67.20\n",
      "Monthly VaR@1% with 64 nodes: 30.27\n",
      "Monthly VaR@1% with 128 nodes: 1.22\n",
      "Monthly VaR@1% with 256 nodes: -23.30\n",
      "Monthly VaR@1% with 512 nodes: -38.72\n"
     ]
    }
   ],
   "source": [
    "for d in range(0,10):\n",
    "    n = (2<<d) // 2\n",
    "    nwins = int(binom.ppf(0.05, MONTH, n*p))\n",
    "    cost = n * COST_MONTH / NNODES\n",
    "    print(f\"Monthly VaR@5% with {n} nodes: {INIT + nwins * REWARD - cost:0.2f}\")\n",
    "    \n",
    "print(\"\")\n",
    "\n",
    "for d in range(0,10):\n",
    "    n = (2<<d) // 2\n",
    "    nwins = int(binom.ppf(0.01, MONTH, n*p))\n",
    "    cost = n * COST_MONTH / NNODES\n",
    "    print(f\"Monthly VaR@1% with {n} nodes: {INIT + nwins*REWARD - cost:0.2f}\")"
   ]
  },
  {
   "cell_type": "code",
   "execution_count": 463,
   "id": "3946050d",
   "metadata": {},
   "outputs": [
    {
     "name": "stdout",
     "output_type": "stream",
     "text": [
      "Annual VaR@5% with 1 nodes: 108.48\n",
      "Annual VaR@5% with 2 nodes: 90.43\n",
      "Annual VaR@5% with 4 nodes: 76.74\n",
      "Annual VaR@5% with 8 nodes: 60.54\n",
      "Annual VaR@5% with 16 nodes: 61.76\n",
      "Annual VaR@5% with 32 nodes: 64.19\n",
      "Annual VaR@5% with 64 nodes: 136.26\n",
      "Annual VaR@5% with 128 nodes: 325.18\n",
      "Annual VaR@5% with 256 nodes: 792.64\n",
      "Annual VaR@5% with 512 nodes: 1839.55\n",
      "\n",
      "Annual VaR@1% with 1 nodes: 97.28\n",
      "Annual VaR@1% with 2 nodes: 79.23\n",
      "Annual VaR@1% with 4 nodes: 54.34\n",
      "Annual VaR@1% with 8 nodes: 26.94\n",
      "Annual VaR@1% with 16 nodes: -5.44\n",
      "Annual VaR@1% with 32 nodes: -25.41\n",
      "Annual VaR@1% with 64 nodes: 1.86\n",
      "Annual VaR@1% with 128 nodes: 134.78\n",
      "Annual VaR@1% with 256 nodes: 523.84\n",
      "Annual VaR@1% with 512 nodes: 1469.95\n"
     ]
    }
   ],
   "source": [
    "for d in range(0,10):\n",
    "    n = (2<<d) // 2\n",
    "    nwins = int(binom.ppf(0.05, YEAR, n/(2<<12)))\n",
    "    cost = n * COST_MONTH / NNODES\n",
    "    print(f\"Annual VaR@5% with {n} nodes: {INIT + nwins * REWARD - cost*12:0.2f}\")\n",
    "    \n",
    "print(\"\")\n",
    "\n",
    "for d in range(0,10):\n",
    "    n = (2<<d) // 2\n",
    "    nwins = int(binom.ppf(0.01, YEAR, n/(2<<12)))\n",
    "    cost = n * COST_MONTH / NNODES\n",
    "    print(f\"Annual VaR@1% with {n} nodes: {INIT + nwins*REWARD - cost*12:0.2f}\")"
   ]
  },
  {
   "cell_type": "markdown",
   "id": "41ee766d",
   "metadata": {},
   "source": [
    "## Hitting time distribution"
   ]
  },
  {
   "cell_type": "code",
   "execution_count": 472,
   "id": "84264577",
   "metadata": {},
   "outputs": [
    {
     "name": "stdout",
     "output_type": "stream",
     "text": [
      "P(ruin in 10 years) = 0.0028\n"
     ]
    }
   ],
   "source": [
    "# %%timeit\n",
    "# 5.28 ms ± 619 µs per loop (mean ± std. dev. of 7 runs, 100 loops each)\n",
    "\n",
    "ticks = np.arange(1,10*YEAR)\n",
    "hit_prob = np.zeros(10*YEAR-1)\n",
    "\n",
    "breakeven = (ticks-(INIT//COST_EPOCH)) / (REWARD//COST_EPOCH) # number of wins needed to exactly break even at time t\n",
    "breakeven_prob = binom.pmf(breakeven, ticks, p*NNODES) # probability to exactly break even at epoch t\n",
    "\n",
    "hit_prob = INIT * breakeven_prob / ticks # use hitting time theorem\n",
    "\n",
    "# In practice, the following seems to approximate P(ruin in finite time) to 4 d.p.\n",
    "# i.e. increasing the time span doesn't change the result\n",
    "print(f\"P(ruin in 10 years) = {hit_prob.sum():.04f}\")"
   ]
  },
  {
   "cell_type": "code",
   "execution_count": 473,
   "id": "d1583fea",
   "metadata": {},
   "outputs": [
    {
     "data": {
      "image/png": "[encoded data removed]",
      "text/plain": [
       "<Figure size 432x288 with 1 Axes>"
      ]
     },
     "metadata": {
      "needs_background": "light"
     },
     "output_type": "display_data"
    }
   ],
   "source": [
    "plt.plot(ticks / 113, hit_prob)\n",
    "ax = plt.gca()\n",
    "ax.set_xlabel(\"Days\")\n",
    "ax.set_ylabel(\"P(ruin)\")\n",
    "ax.set_title(f\"P(ruin) for {NNODES} nodes with ${INIT:.02f} of operating reserve\")\n",
    "plt.show()"
   ]
  },
  {
   "cell_type": "code",
   "execution_count": null,
   "id": "a608a45c",
   "metadata": {},
   "outputs": [],
   "source": []
  }
 ],
 "metadata": {
  "kernelspec": {
   "display_name": "Python 3",
   "language": "python",
   "name": "python3"
  },
  "language_info": {
   "codemirror_mode": {
    "name": "ipython",
    "version": 3
   },
   "file_extension": ".py",
   "mimetype": "text/x-python",
   "name": "python",
   "nbconvert_exporter": "python",
   "pygments_lexer": "ipython3",
   "version": "3.9.4"
  }
 },
 "nbformat": 4,
 "nbformat_minor": 5
}
