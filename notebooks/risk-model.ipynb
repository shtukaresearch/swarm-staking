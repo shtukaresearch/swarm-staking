{
 "cells": [
  {
   "cell_type": "code",
   "execution_count": null,
   "id": "dadde9bf",
   "metadata": {},
   "outputs": [],
   "source": [
    "DAY = 113\n",
    "MONTH = 3410\n",
    "YEAR = 41500\n",
    "D = 11 + 2 # network radius + 4 equal weighted nodes per bin\n",
    "p = 1 / (2 << (D-1)) # probability of winning on a given epoch\n",
    "\n",
    "NNODES = 16\n",
    "\n",
    "REWARD_BZZ = 40\n",
    "BZZUSD = 0.28\n",
    "\n",
    "REWARD = REWARD_BZZ * BZZUSD"
   ]
  },
  {
   "cell_type": "code",
   "execution_count": null,
   "id": "e57d8f8d",
   "metadata": {},
   "outputs": [],
   "source": [
    "# AWS prices for 16 nodes estimate\n",
    "# https://aws.amazon.com/ec2/pricing/on-demand/\n",
    "\n",
    "EC2_HOUR = NNODES * 0.0672 / 16 # t4g.large - assume this can run 16 nodes\n",
    "#M6I_4XLARGE_HOUR = 0.768\n",
    "EC2_EPOCH = EC2_HOUR * 5 * 152 / 3600\n",
    "EC2_MONTH = EC2_HOUR * 24 * 30\n",
    "print(f\"Compute cost per month: {EC2_MONTH:0.2f}\")\n",
    "\n",
    "# https://aws.amazon.com/ebs/pricing/\n",
    "\n",
    "EBS_GB_MONTH = 0.08\n",
    "EBS_MONTH = EBS_GB_MONTH * 16 * NNODES\n",
    "EBS_EPOCH = EBS_MONTH * 5 * 152 / (30*86400)\n",
    "print(f\"Storage cost per month: {EBS_MONTH:0.2f}\")\n",
    "\n",
    "COST_EPOCH = EC2_EPOCH + EBS_EPOCH\n",
    "COST_MONTH = EC2_MONTH + EBS_MONTH\n",
    "print(f\"Total cost per month:   {EC2_MONTH+EBS_MONTH:0.2f}\")\n",
    "\n",
    "\n",
    "INIT = COST_MONTH * 3 # enough cash reserves for 3 months of costs"
   ]
  },
  {
   "cell_type": "code",
   "execution_count": null,
   "id": "de76c5c8",
   "metadata": {},
   "outputs": [],
   "source": [
    "print(f\"Expected monthly revenue: {MONTH * REWARD * p * NNODES:.02f}\")"
   ]
  },
  {
   "cell_type": "code",
   "execution_count": null,
   "id": "52afc1a5",
   "metadata": {},
   "outputs": [],
   "source": [
    "from scipy.stats import binom\n",
    "import numpy as np\n",
    "from matplotlib import pyplot as plt"
   ]
  },
  {
   "cell_type": "markdown",
   "id": "6872a278",
   "metadata": {},
   "source": [
    "## Value at risk, dry spells"
   ]
  },
  {
   "cell_type": "code",
   "execution_count": null,
   "id": "cecb63ef",
   "metadata": {},
   "outputs": [],
   "source": [
    "print(f\"Prob(no rewards in a month |  1 node): {binom.pmf(0, MONTH, p):.04f}\")\n",
    "print(f\"Prob(no rewards in a year  |  1 node): {binom.pmf(0, YEAR, p):.04f}\")\n",
    "print(\"\")\n",
    "print(f\"Prob(no rewards in a month | 16 nodes): {binom.pmf(0, 2*MONTH, 16*p):.04f}\")\n",
    "print(f\"Prob(no rewards in a year  | 16 nodes): {binom.pmf(0, YEAR, 16*p):.04f}\")"
   ]
  },
  {
   "cell_type": "code",
   "execution_count": null,
   "id": "79a398f4",
   "metadata": {},
   "outputs": [],
   "source": [
    "for d in range(0,10):\n",
    "    n = (2<<d) // 2\n",
    "    nwins = int(binom.ppf(0.05, MONTH, n*p))\n",
    "    print(f\"Monthly revenue @5% with {n} nodes: {nwins * REWARD:0.2f}\")\n",
    "    \n",
    "print(\"\")\n",
    "\n",
    "for d in range(0,10):\n",
    "    n = (2<<d) // 2\n",
    "    nwins = int(binom.ppf(0.01, MONTH, n*p))\n",
    "    print(f\"Monthly revenue @1% with {n} nodes: {nwins*REWARD:0.2f}\")"
   ]
  },
  {
   "cell_type": "code",
   "execution_count": null,
   "id": "2e243a47",
   "metadata": {},
   "outputs": [],
   "source": [
    "for d in range(0,10):\n",
    "    n = (2<<d) // 2\n",
    "    nwins = int(binom.ppf(0.05, MONTH, n*p))\n",
    "    cost = n * COST_MONTH / NNODES\n",
    "    print(f\"Monthly VaR@5% with {n} nodes: {INIT + nwins * REWARD - cost:0.2f}\")\n",
    "    \n",
    "print(\"\")\n",
    "\n",
    "for d in range(0,10):\n",
    "    n = (2<<d) // 2\n",
    "    nwins = int(binom.ppf(0.01, MONTH, n*p))\n",
    "    cost = n * COST_MONTH / NNODES\n",
    "    print(f\"Monthly VaR@1% with {n} nodes: {INIT + nwins*REWARD - cost:0.2f}\")"
   ]
  },
  {
   "cell_type": "code",
   "execution_count": null,
   "id": "3946050d",
   "metadata": {},
   "outputs": [],
   "source": [
    "for d in range(0,10):\n",
    "    n = (2<<d) // 2\n",
    "    nwins = int(binom.ppf(0.05, YEAR, n*p))\n",
    "    cost = n * COST_MONTH / NNODES\n",
    "    print(f\"Annual VaR@5% with {n} nodes: {INIT + nwins * REWARD - cost*12:0.2f}\")\n",
    "    \n",
    "print(\"\")\n",
    "\n",
    "for d in range(0,10):\n",
    "    n = (2<<d) // 2\n",
    "    nwins = int(binom.ppf(0.01, YEAR, n*p))\n",
    "    cost = n * COST_MONTH / NNODES\n",
    "    print(f\"Annual VaR@1% with {n} nodes: {INIT + nwins*REWARD - cost*12:0.2f}\")"
   ]
  },
  {
   "cell_type": "markdown",
   "id": "41ee766d",
   "metadata": {},
   "source": [
    "## Hitting time distribution"
   ]
  },
  {
   "cell_type": "code",
   "execution_count": null,
   "id": "84264577",
   "metadata": {},
   "outputs": [],
   "source": [
    "# %%timeit\n",
    "# 5.28 ms ± 619 µs per loop (mean ± std. dev. of 7 runs, 100 loops each)\n",
    "\n",
    "ticks = np.arange(1,10*YEAR)\n",
    "hit_prob = np.zeros(10*YEAR-1)\n",
    "\n",
    "breakeven = (ticks-(INIT//COST_EPOCH)) / (REWARD//COST_EPOCH) # number of wins needed to exactly break even at time t\n",
    "breakeven_prob = binom.pmf(breakeven, ticks, p*NNODES) # probability to exactly break even at epoch t\n",
    "\n",
    "hit_prob = (INIT//COST_EPOCH) * breakeven_prob / ticks # use hitting time theorem\n",
    "\n",
    "# In practice, the following seems to approximate P(ruin in finite time) to 4 d.p.\n",
    "# i.e. increasing the time span doesn't change the result\n",
    "print(f\"P(ruin in 10 years) = {hit_prob.sum():.04f}\")"
   ]
  },
  {
   "cell_type": "code",
   "execution_count": null,
   "id": "d1583fea",
   "metadata": {},
   "outputs": [],
   "source": [
    "plt.plot(ticks / 113, breakeven_prob)\n",
    "ax = plt.gca()\n",
    "ax.set_xlabel(\"Days\")\n",
    "ax.set_ylabel(\"P(ruin)\")\n",
    "ax.set_title(f\"P(ruin) for {NNODES} nodes with ${INIT:.02f} of operating reserve\")\n",
    "plt.show()"
   ]
  },
  {
   "cell_type": "code",
   "execution_count": null,
   "id": "400def56",
   "metadata": {},
   "outputs": [],
   "source": []
  }
 ],
 "metadata": {
  "kernelspec": {
   "display_name": "Python 3",
   "language": "python",
   "name": "python3"
  },
  "language_info": {
   "codemirror_mode": {
    "name": "ipython",
    "version": 3
   },
   "file_extension": ".py",
   "mimetype": "text/x-python",
   "name": "python",
   "nbconvert_exporter": "python",
   "pygments_lexer": "ipython3",
   "version": "3.9.4"
  }
 },
 "nbformat": 4,
 "nbformat_minor": 5
}
